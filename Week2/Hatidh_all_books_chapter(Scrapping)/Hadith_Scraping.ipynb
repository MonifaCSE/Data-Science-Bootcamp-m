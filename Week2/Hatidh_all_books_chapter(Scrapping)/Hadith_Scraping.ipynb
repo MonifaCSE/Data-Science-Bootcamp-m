{
  "cells": [
    {
      "cell_type": "code",
      "execution_count": null,
      "metadata": {
        "id": "9WKqANiMxw47"
      },
      "outputs": [],
      "source": [
        "!pip install requests.html"
      ]
    },
    {
      "cell_type": "code",
      "execution_count": 11,
      "metadata": {
        "id": "9mpC_USPxi0L"
      },
      "outputs": [],
      "source": [
        "from requests_html import HTMLSession\n",
        "session = HTMLSession()\n",
        "\n",
        "path=\"/content/drive/MyDrive/Data science/Hadith_Scrapping/ Hadith_Books\"\n",
        "def hadith_book_scrapping(url,c):\n",
        "  #url=\"http://ihadis.com/books/{book_name}\"\n",
        "  print(f\"Book name: {bo}  and Total Chapter: {c}\")\n",
        "  for i in range(1,c+1):\n",
        "    chapter_url=url+ \"/chapter/\" + str(i)\n",
        "    \n",
        "    r = session.get(chapter_url)\n",
        "     \n",
        "\n",
        "    no_pattern=\"h3.hidden-print\"\n",
        "    arabic_pattern=\"p.hadith-des2\"\n",
        "    bangla_pattern=\"p.hadith-des\"\n",
        "    narrator_pattern=\".narrated-by\"\n",
        "    hadith_maan=\".label.validity\"\n",
        "   \n",
        "\n",
        "    number=[i.text for i in r.html.find(no_pattern)]\n",
        "    arabic_text=[i.text for i in r.html.find(arabic_pattern)]\n",
        "    bangla_text=[i.text for i in r.html.find(bangla_pattern)]\n",
        "    narrator=[i.text for i in r.html.find(narrator_pattern)]\n",
        "    hadith_status=[i.text for i in r.html.find(hadith_maan)]\n",
        "    print(\"Chapter:\",i, len(number),len(arabic_text),len(bangla_text),len(narrator),len(hadith_status))\n",
        "\n",
        "    with open(f\"{path}/{bo}/{bo}_chapter{i}.txt\",\"w\") as f:\n",
        "      f.write(\"No, Arabic_text, Bangla_Text, Narrator, Hadith_Status\")\n",
        "      f.write('\\n')\n",
        "      for n,a,b,na,hs in zip(number,arabic_text,bangla_text,narrator,hadith_status):\n",
        "         \n",
        "          f.write(f\"{n},{a},{b},{na},{hs}\")\n",
        "          f.write('\\n')\n",
        "\n"
      ]
    },
    {
      "cell_type": "code",
      "execution_count": 12,
      "metadata": {
        "id": "jsRDLxF885ah"
      },
      "outputs": [],
      "source": [
        "from bs4 import BeautifulSoup\n",
        "\n",
        "burl=\"http://ihadis.com/\"\n",
        "r1= session.get(burl)\n",
        "soup = BeautifulSoup(r1.html.html, \"html.parser\")\n",
        "\n",
        "book = soup.select('option[value]')\n",
        "books = [item.get('value') for item in book]\n",
        "\n",
        "chap=[97,56,50,43,46,37,61,20,16,0,54,20,1,1,11,1,22,1,0,1,7,4,56,0,0,4,3,16,1,0,0]\n",
        " "
      ]
    },
    {
      "cell_type": "code",
      "execution_count": null,
      "metadata": {
        "id": "bdVFfLn33LuW"
      },
      "outputs": [],
      "source": [
        "for bo,c in zip(books,chap):\n",
        "    book_url=f\"http://ihadis.com/books/{bo}\"\n",
        "    hadith_book_scrapping(book_url,c)"
      ]
    }
  ],
  "metadata": {
    "colab": {
      "collapsed_sections": [],
      "provenance": []
    },
    "kernelspec": {
      "display_name": "Python 3",
      "name": "python3"
    },
    "language_info": {
      "name": "python"
    }
  },
  "nbformat": 4,
  "nbformat_minor": 0
}