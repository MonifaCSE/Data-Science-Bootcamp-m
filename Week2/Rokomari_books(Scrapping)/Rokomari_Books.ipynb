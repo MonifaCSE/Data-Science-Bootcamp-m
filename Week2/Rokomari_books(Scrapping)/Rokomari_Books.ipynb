{
  "cells": [
    {
      "cell_type": "code",
      "execution_count": null,
      "metadata": {
        "id": "nx-tBeuLeF2e"
      },
      "outputs": [],
      "source": [
        "!pip install requests.html"
      ]
    },
    {
      "cell_type": "code",
      "source": [
        "from google.colab import drive\n",
        "drive.mount('/content/drive')"
      ],
      "metadata": {
        "id": "OXFc1WBFVNd5",
        "colab": {
          "base_uri": "https://localhost:8080/"
        },
        "outputId": "c1682c93-fd51-491b-c362-4e3608bf0735"
      },
      "execution_count": 2,
      "outputs": [
        {
          "output_type": "stream",
          "name": "stdout",
          "text": [
            "Drive already mounted at /content/drive; to attempt to forcibly remount, call drive.mount(\"/content/drive\", force_remount=True).\n"
          ]
        }
      ]
    },
    {
      "cell_type": "code",
      "execution_count": 9,
      "metadata": {
        "id": "LF5KqD65ihP2"
      },
      "outputs": [],
      "source": [
        "from requests_html import HTMLSession\n",
        "session = HTMLSession()\n",
        "\n",
        "path=\"/content/drive/MyDrive/Data science/Rokomari_Books/BCS_Books\"\n",
        "k=0\n",
        "def BCS_book_scrapping(burl):\n",
        "    global k\n",
        "    r = session.get(burl)\n",
        "  \n",
        "    title=\".details-book-main-info__header h1\"\n",
        "    author=\".details-book-info__content-author\"\n",
        "    category=\"a.ml-2\"\n",
        "    rating=\".details-book-info__content-rating\"\n",
        "    price=\".details-book-info__content-book-price\"\n",
        "    \n",
        "\n",
        "    k=k+1\n",
        "    ti=[i.text for i in r.html.find(title)]\n",
        "    au=[i.text for i in r.html.find(author)]\n",
        "    ca=[i.text for i in r.html.find(category)]\n",
        "    ra=[i.text for i in r.html.find(rating)]\n",
        "    pr=[i.text for i in r.html.find(price)]\n",
        "     \n",
        "    print(f\"Scrapping Book {k}\")\n",
        "    with open(f\"{path}/BCS.txt\",\"a\") as f:\n",
        "      f.write(\"Serial No,   Title,   Author  ,Category  ,Ratings   ,Price\")\n",
        "      f.write('\\n')\n",
        "      for t,a,c,r,p  in zip(ti,au,ca,ra,pr):\n",
        "         \n",
        "          f.write(f\"{k},  {t},  {a},  {c},  {r},  {p}\")\n",
        "          f.write('\\n')"
      ]
    },
    {
      "cell_type": "code",
      "source": [
        "from bs4 import BeautifulSoup\n",
        "import requests\n",
        "url=\"https://www.rokomari.com/book/publisher/781/bcs-prokashon?ref=mm_p24\"\n",
        "soup=BeautifulSoup(requests.get(url).text)\n",
        "\n",
        "results=soup.find(\"div\", class_=\"browse__content-books-wrapper\")\n",
        "links=results.find_all('a')\n",
        "urls=[x['href'] for x in links]\n",
        "urls"
      ],
      "metadata": {
        "id": "fOtFk0FHuMLG"
      },
      "execution_count": null,
      "outputs": []
    },
    {
      "cell_type": "code",
      "execution_count": null,
      "metadata": {
        "id": "JQUDIYetdYVy"
      },
      "outputs": [],
      "source": [
        "for u in urls:\n",
        "  book_url=f\"https://www.rokomari.com{u}\"\n",
        "  BCS_book_scrapping(book_url)"
      ]
    }
  ],
  "metadata": {
    "colab": {
      "collapsed_sections": [],
      "provenance": []
    },
    "kernelspec": {
      "display_name": "Python 3",
      "name": "python3"
    },
    "language_info": {
      "name": "python"
    }
  },
  "nbformat": 4,
  "nbformat_minor": 0
}