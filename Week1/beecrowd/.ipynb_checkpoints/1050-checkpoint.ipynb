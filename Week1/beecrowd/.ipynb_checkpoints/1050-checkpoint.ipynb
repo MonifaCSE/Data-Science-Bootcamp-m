{
 "cells": [
  {
   "cell_type": "code",
   "execution_count": null,
   "metadata": {},
   "outputs": [],
   "source": [
    "a=float(input())\n",
    "\n",
    "if a>=0 and a<=25:\n",
    "    print(\"Intervalo [0,25]\")\n",
    "elif a>25 and a<=50:\n",
    "    print(\"Intervalo (25,50]\")\n",
    "elif a>50 and a<=75:\n",
    "    print(\"Intervalo (50,75]\")\n",
    "elif a>75 and a<=100:\n",
    "    print(\"Intervalo (75,100]\")\n",
    "else:\n",
    "    print(\"Fora de intervalo\")\n",
    "\n"
   ]
  }
 ],
 "metadata": {
  "kernelspec": {
   "display_name": "Python 3",
   "language": "python",
   "name": "python3"
  },
  "language_info": {
   "codemirror_mode": {
    "name": "ipython",
    "version": 3
   },
   "file_extension": ".py",
   "mimetype": "text/x-python",
   "name": "python",
   "nbconvert_exporter": "python",
   "pygments_lexer": "ipython3",
   "version": "3.10.6"
  }
 },
 "nbformat": 4,
 "nbformat_minor": 4
}
